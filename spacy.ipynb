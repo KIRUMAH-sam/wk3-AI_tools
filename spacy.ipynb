{
 "cells": [
  {
   "cell_type": "code",
   "execution_count": 7,
   "id": "8f4a1aff",
   "metadata": {},
   "outputs": [
    {
     "name": "stdout",
     "output_type": "stream",
     "text": [
      "\n",
      " Review: I love the new Samsung Galaxy phone! The camera is stunning.\n",
      " Entities: [('Samsung Galaxy', 'ORG')]\n",
      " Sentiment: Positive\n",
      "\n",
      " Review: The Apple AirPods are overpriced and lose charge quickly.\n",
      " Entities: []\n",
      " Sentiment: Negative\n",
      "\n",
      " Review: Sony headphones have amazing sound quality and comfortable fit.\n",
      " Entities: [('Sony', 'ORG')]\n",
      " Sentiment: Positive\n",
      "\n",
      " Review: This Dell laptop heats up too fast, I'm disappointed.\n",
      " Entities: []\n",
      " Sentiment: Negative\n",
      "\n",
      " Review: The HP printer works perfectly, great value for money!\n",
      " Entities: [('HP', 'ORG')]\n",
      " Sentiment: Positive\n"
     ]
    }
   ],
   "source": [
    "# AI Toolkit Project: NER + Sentiment Analysis using spaCy\n",
    "# Objective: Extract product names and analyze sentiment of Amazon reviews\n",
    "# Dataset: Sample reviews list\n",
    "import spacy\n",
    "# Load spaCy Model\n",
    "nlp = spacy.load(\"en_core_web_sm\")\n",
    "\n",
    "# Sample Amazon Product Reviews\n",
    "reviews = [\n",
    "    \"I love the new Samsung Galaxy phone! The camera is stunning.\",\n",
    "    \"The Apple AirPods are overpriced and lose charge quickly.\",\n",
    "    \"Sony headphones have amazing sound quality and comfortable fit.\",\n",
    "    \"This Dell laptop heats up too fast, I'm disappointed.\",\n",
    "    \"The HP printer works perfectly, great value for money!\"\n",
    "]\n",
    "\n",
    "# Define Simple Sentiment Lexicon\n",
    "positive_words = [\"love\", \"great\", \"amazing\", \"stunning\", \"perfect\", \"excellent\"]\n",
    "negative_words = [\"bad\", \"disappointed\", \"poor\", \"slow\", \"overpriced\", \"terrible\", \"worse\"]\n",
    "\n",
    "def analyze_sentiment(text):\n",
    "    text_lower = text.lower()\n",
    "    pos = sum(word in text_lower for word in positive_words)\n",
    "    neg = sum(word in text_lower for word in negative_words)\n",
    "    if pos > neg: return \"Positive\"\n",
    "    elif neg > pos: return \"Negative\"\n",
    "    else: return \"Neutral\"\n",
    "\n",
    "# Process and Display Results\n",
    "for review in reviews:\n",
    "    doc = nlp(review)\n",
    "    entities = [(ent.text, ent.label_) for ent in doc.ents]\n",
    "    sentiment = analyze_sentiment(review)\n",
    "    print(f\"\\n Review: {review}\")\n",
    "    print(f\" Entities: {entities}\")\n",
    "    print(f\" Sentiment: {sentiment}\")\n",
    "\n",
    "\n",
    "\n",
    "\n"
   ]
  }
 ],
 "metadata": {
  "kernelspec": {
   "display_name": "Python 3",
   "language": "python",
   "name": "python3"
  },
  "language_info": {
   "codemirror_mode": {
    "name": "ipython",
    "version": 3
   },
   "file_extension": ".py",
   "mimetype": "text/x-python",
   "name": "python",
   "nbconvert_exporter": "python",
   "pygments_lexer": "ipython3",
   "version": "3.13.5"
  }
 },
 "nbformat": 4,
 "nbformat_minor": 5
}
